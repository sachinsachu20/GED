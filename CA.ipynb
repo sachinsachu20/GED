{
 "cells": [
  {
   "cell_type": "code",
   "execution_count": 1,
   "id": "e690d5d6-6d79-4017-a65c-e1c30af55b2f",
   "metadata": {},
   "outputs": [
    {
     "name": "stdout",
     "output_type": "stream",
     "text": [
      "Requirement already satisfied: pandas in c:\\users\\sachin\\appdata\\local\\programs\\python\\python312\\lib\\site-packages (2.2.2)\n",
      "Requirement already satisfied: numpy in c:\\users\\sachin\\appdata\\local\\programs\\python\\python312\\lib\\site-packages (2.1.0)\n",
      "Requirement already satisfied: matplotlib in c:\\users\\sachin\\appdata\\local\\programs\\python\\python312\\lib\\site-packages (3.9.2)\n",
      "Requirement already satisfied: seaborn in c:\\users\\sachin\\appdata\\local\\programs\\python\\python312\\lib\\site-packages (0.13.2)\n",
      "Requirement already satisfied: scikit-learn in c:\\users\\sachin\\appdata\\local\\programs\\python\\python312\\lib\\site-packages (1.5.2)\n",
      "Requirement already satisfied: python-dateutil>=2.8.2 in c:\\users\\sachin\\appdata\\local\\programs\\python\\python312\\lib\\site-packages (from pandas) (2.9.0.post0)\n",
      "Requirement already satisfied: pytz>=2020.1 in c:\\users\\sachin\\appdata\\local\\programs\\python\\python312\\lib\\site-packages (from pandas) (2024.1)\n",
      "Requirement already satisfied: tzdata>=2022.7 in c:\\users\\sachin\\appdata\\local\\programs\\python\\python312\\lib\\site-packages (from pandas) (2024.1)\n",
      "Requirement already satisfied: contourpy>=1.0.1 in c:\\users\\sachin\\appdata\\local\\programs\\python\\python312\\lib\\site-packages (from matplotlib) (1.3.0)\n",
      "Requirement already satisfied: cycler>=0.10 in c:\\users\\sachin\\appdata\\local\\programs\\python\\python312\\lib\\site-packages (from matplotlib) (0.12.1)\n",
      "Requirement already satisfied: fonttools>=4.22.0 in c:\\users\\sachin\\appdata\\local\\programs\\python\\python312\\lib\\site-packages (from matplotlib) (4.54.1)\n",
      "Requirement already satisfied: kiwisolver>=1.3.1 in c:\\users\\sachin\\appdata\\local\\programs\\python\\python312\\lib\\site-packages (from matplotlib) (1.4.7)\n",
      "Requirement already satisfied: packaging>=20.0 in c:\\users\\sachin\\appdata\\local\\programs\\python\\python312\\lib\\site-packages (from matplotlib) (24.1)\n",
      "Requirement already satisfied: pillow>=8 in c:\\users\\sachin\\appdata\\local\\programs\\python\\python312\\lib\\site-packages (from matplotlib) (10.4.0)\n",
      "Requirement already satisfied: pyparsing>=2.3.1 in c:\\users\\sachin\\appdata\\local\\programs\\python\\python312\\lib\\site-packages (from matplotlib) (3.1.4)\n",
      "Requirement already satisfied: scipy>=1.6.0 in c:\\users\\sachin\\appdata\\local\\programs\\python\\python312\\lib\\site-packages (from scikit-learn) (1.14.1)\n",
      "Requirement already satisfied: joblib>=1.2.0 in c:\\users\\sachin\\appdata\\local\\programs\\python\\python312\\lib\\site-packages (from scikit-learn) (1.4.2)\n",
      "Requirement already satisfied: threadpoolctl>=3.1.0 in c:\\users\\sachin\\appdata\\local\\programs\\python\\python312\\lib\\site-packages (from scikit-learn) (3.5.0)\n",
      "Requirement already satisfied: six>=1.5 in c:\\users\\sachin\\appdata\\local\\programs\\python\\python312\\lib\\site-packages (from python-dateutil>=2.8.2->pandas) (1.16.0)\n",
      "Requirement already satisfied: openpyxl in c:\\users\\sachin\\appdata\\local\\programs\\python\\python312\\lib\\site-packages (3.1.5)\n",
      "Requirement already satisfied: xlrd in c:\\users\\sachin\\appdata\\local\\programs\\python\\python312\\lib\\site-packages (2.0.1)\n",
      "Requirement already satisfied: et-xmlfile in c:\\users\\sachin\\appdata\\local\\programs\\python\\python312\\lib\\site-packages (from openpyxl) (1.1.0)\n"
     ]
    }
   ],
   "source": [
    "!pip install pandas numpy matplotlib seaborn scikit-learn\n",
    "!pip install openpyxl xlrd\n"
   ]
  },
  {
   "cell_type": "code",
   "execution_count": 2,
   "id": "2139e6de-0986-45bf-aaa9-0b230bfbb805",
   "metadata": {},
   "outputs": [],
   "source": [
    "import pandas as pd\n",
    "import numpy as np\n",
    "import matplotlib.pyplot as plt\n",
    "import seaborn as sns\n",
    "from sklearn.model_selection import train_test_split\n",
    "import warnings\n",
    "warnings.filterwarnings(\"ignore\")\n"
   ]
  },
  {
   "cell_type": "code",
   "execution_count": 3,
   "id": "8a2d6af5-b895-474e-81ac-f3811424ae54",
   "metadata": {},
   "outputs": [
    {
     "name": "stdout",
     "output_type": "stream",
     "text": [
      "   CustomerKey  Gender               Name            City State Code  \\\n",
      "0          301  Female      Lilly Harding  WANDEARAH EAST         SA   \n",
      "1          325  Female       Madison Hull      MOUNT BUDD         WA   \n",
      "2          554  Female      Claire Ferres       WINJALLOK        VIC   \n",
      "3          786    Male  Jai Poltpalingada    MIDDLE RIVER         SA   \n",
      "4         1042    Male    Aidan Pankhurst   TAWONGA SOUTH        VIC   \n",
      "\n",
      "               State Zip Code    Country  Continent    Birthday  \n",
      "0    South Australia     5523  Australia  Australia    7/3/1939  \n",
      "1  Western Australia     6522  Australia  Australia   9/27/1979  \n",
      "2           Victoria     3380  Australia  Australia   5/26/1947  \n",
      "3    South Australia     5223  Australia  Australia   9/17/1957  \n",
      "4           Victoria     3698  Australia  Australia  11/19/1965  \n",
      "   Table          Field                                        Description\n",
      "0  Sales   Order Number                           Unique ID for each order\n",
      "1  Sales      Line Item  Identifies individual products purchased as pa...\n",
      "2  Sales     Order Date                          Date the order was placed\n",
      "3  Sales  Delivery Date                       Date the order was delivered\n",
      "4  Sales    CustomerKey  Unique key identifying which customer placed t...\n",
      "       Date Currency  Exchange\n",
      "0  1/1/2015      USD    1.0000\n",
      "1  1/1/2015      CAD    1.1583\n",
      "2  1/1/2015      AUD    1.2214\n",
      "3  1/1/2015      EUR    0.8237\n",
      "4  1/1/2015      GBP    0.6415\n",
      "   ProductKey                         Product Name    Brand   Color  \\\n",
      "0           1  Contoso 512MB MP3 Player E51 Silver  Contoso  Silver   \n",
      "1           2    Contoso 512MB MP3 Player E51 Blue  Contoso    Blue   \n",
      "2           3     Contoso 1G MP3 Player E100 White  Contoso   White   \n",
      "3           4    Contoso 2G MP3 Player E200 Silver  Contoso  Silver   \n",
      "4           5       Contoso 2G MP3 Player E200 Red  Contoso     Red   \n",
      "\n",
      "  Unit Cost USD Unit Price USD  SubcategoryKey Subcategory  CategoryKey  \\\n",
      "0        $6.62         $12.99              101     MP4&MP3            1   \n",
      "1        $6.62         $12.99              101     MP4&MP3            1   \n",
      "2        $7.40         $14.52              101     MP4&MP3            1   \n",
      "3       $11.00         $21.57              101     MP4&MP3            1   \n",
      "4       $11.00         $21.57              101     MP4&MP3            1   \n",
      "\n",
      "  Category  \n",
      "0    Audio  \n",
      "1    Audio  \n",
      "2    Audio  \n",
      "3    Audio  \n",
      "4    Audio  \n",
      "   Order Number  Line Item Order Date Delivery Date  CustomerKey  StoreKey  \\\n",
      "0        366000          1   1/1/2016           NaN       265598        10   \n",
      "1        366001          1   1/1/2016     1/13/2016      1269051         0   \n",
      "2        366001          2   1/1/2016     1/13/2016      1269051         0   \n",
      "3        366002          1   1/1/2016     1/12/2016       266019         0   \n",
      "4        366002          2   1/1/2016     1/12/2016       266019         0   \n",
      "\n",
      "   ProductKey  Quantity Currency Code  \n",
      "0        1304         1           CAD  \n",
      "1        1048         2           USD  \n",
      "2        2007         1           USD  \n",
      "3        1106         7           CAD  \n",
      "4         373         1           CAD  \n",
      "   StoreKey    Country                         State  Square Meters  Open Date\n",
      "0         1  Australia  Australian Capital Territory          595.0   1/1/2008\n",
      "1         2  Australia            Northern Territory          665.0  1/12/2008\n",
      "2         3  Australia               South Australia         2000.0   1/7/2012\n",
      "3         4  Australia                      Tasmania         2000.0   1/1/2010\n",
      "4         5  Australia                      Victoria         2000.0  12/9/2015\n"
     ]
    }
   ],
   "source": [
    "import pandas as pd\n",
    "\n",
    "# Load datasets with specified encoding\n",
    "customer_data = pd.read_csv(r\"D:\\PROJECTS\\EDA\\DATA'S\\Customers.csv\",encoding='ISO-8859-1')\n",
    "data_dictionary_df = pd.read_csv(r\"D:\\PROJECTS\\EDA\\DATA'S\\Data_Dictionary.csv\", encoding='ISO-8859-1')\n",
    "exchange_rates_df = pd.read_csv(r\"D:\\PROJECTS\\EDA\\DATA'S\\Exchange_Rates.csv\", encoding='ISO-8859-1')\n",
    "products_df = pd.read_csv(r\"D:\\PROJECTS\\EDA\\DATA'S\\Products.csv\", encoding='ISO-8859-1')\n",
    "sales_df = pd.read_csv(r\"D:\\PROJECTS\\EDA\\DATA'S\\Sales.csv\", encoding='ISO-8859-1')\n",
    "stores_df = pd.read_csv(r\"D:\\PROJECTS\\EDA\\DATA'S\\Stores.csv\", encoding='ISO-8859-1')\n",
    "\n",
    "# Display the first few rows of each DataFrame to check\n",
    "print(customer_data.head())\n",
    "print(data_dictionary_df.head())\n",
    "print(exchange_rates_df.head())\n",
    "print(products_df.head())\n",
    "print(sales_df.head())\n",
    "print(stores_df.head())\n"
   ]
  },
  {
   "cell_type": "code",
   "execution_count": 4,
   "id": "8b152baf-9633-452e-a454-de6c474533c9",
   "metadata": {},
   "outputs": [
    {
     "name": "stdout",
     "output_type": "stream",
     "text": [
      "Missing values in each column:\n",
      "CustomerKey     0\n",
      "Gender          0\n",
      "Name            0\n",
      "City            0\n",
      "State Code     10\n",
      "State           0\n",
      "Zip Code        0\n",
      "Country         0\n",
      "Continent       0\n",
      "Birthday        0\n",
      "dtype: int64\n"
     ]
    }
   ],
   "source": [
    "# Check for missing values\n",
    "print(\"Missing values in each column:\")\n",
    "print(customer_data.isnull().sum())"
   ]
  },
  {
   "cell_type": "code",
   "execution_count": 5,
   "id": "4f5dba59-f762-4932-a85c-1406c967a628",
   "metadata": {},
   "outputs": [
    {
     "name": "stdout",
     "output_type": "stream",
     "text": [
      "Missing values after imputation:\n",
      "CustomerKey    0\n",
      "Gender         0\n",
      "Name           0\n",
      "City           0\n",
      "State Code     0\n",
      "State          0\n",
      "Zip Code       0\n",
      "Country        0\n",
      "Continent      0\n",
      "Birthday       0\n",
      "dtype: int64\n"
     ]
    }
   ],
   "source": [
    "            # HANDLING MISSING VALUES\n",
    "# Calculate the mode for 'State Code'\n",
    "most_common_state_code = customer_data['State Code'].mode()[0]\n",
    "\n",
    "# Fill missing values with the mode by assigning directly\n",
    "customer_data['State Code'] = customer_data['State Code'].fillna(most_common_state_code)\n",
    "\n",
    "# Verify that there are no more missing values\n",
    "print(\"Missing values after imputation:\")\n",
    "print(customer_data.isnull().sum())\n"
   ]
  },
  {
   "cell_type": "code",
   "execution_count": 6,
   "id": "af3329cd-218c-41f0-a128-eae3c1035ee1",
   "metadata": {},
   "outputs": [
    {
     "name": "stdout",
     "output_type": "stream",
     "text": [
      "CustomerKey     int64\n",
      "Gender         object\n",
      "Name           object\n",
      "City           object\n",
      "State Code     object\n",
      "State          object\n",
      "Zip Code       object\n",
      "Country        object\n",
      "Continent      object\n",
      "Birthday       object\n",
      "dtype: object\n"
     ]
    }
   ],
   "source": [
    "# Check data types of each column\n",
    "print(customer_data.dtypes)\n"
   ]
  },
  {
   "cell_type": "code",
   "execution_count": 7,
   "id": "90b8dc8f-2169-4fae-a271-21fee5a7cf93",
   "metadata": {},
   "outputs": [
    {
     "name": "stdout",
     "output_type": "stream",
     "text": [
      "CustomerKey             int64\n",
      "Gender                 object\n",
      "Name                   object\n",
      "City                   object\n",
      "State Code             object\n",
      "State                  object\n",
      "Zip Code               object\n",
      "Country                object\n",
      "Continent              object\n",
      "Birthday       datetime64[ns]\n",
      "Age                     int64\n",
      "dtype: object\n"
     ]
    }
   ],
   "source": [
    "# Convert 'Birthday' to datetime and calculate 'Age'\n",
    "customer_data['Birthday'] = pd.to_datetime(customer_data['Birthday'], errors='coerce')\n",
    "customer_data['Age'] = (pd.to_datetime('today') - customer_data['Birthday']).dt.days // 365\n",
    "print(customer_data.dtypes)"
   ]
  },
  {
   "cell_type": "code",
   "execution_count": 8,
   "id": "ca377e0d-4baf-4fca-a48a-919d2e39b8d0",
   "metadata": {},
   "outputs": [
    {
     "name": "stdout",
     "output_type": "stream",
     "text": [
      "Gender Distribution:\n",
      "Gender\n",
      "Male      7748\n",
      "Female    7518\n",
      "Name: count, dtype: int64\n"
     ]
    }
   ],
   "source": [
    "            # Demographic Distribution\n",
    "# Gender distribution\n",
    "gender_distribution = customer_data['Gender'].value_counts()\n",
    "print(\"Gender Distribution:\")\n",
    "print(gender_distribution)\n"
   ]
  },
  {
   "cell_type": "code",
   "execution_count": 9,
   "id": "2aa936e3-2092-40a3-b83c-a22cbee3efdf",
   "metadata": {},
   "outputs": [
    {
     "data": {
      "image/png": "[encoded data removed]",
      "text/plain": [
       "<Figure size 1000x600 with 1 Axes>"
      ]
     },
     "metadata": {},
     "output_type": "display_data"
    }
   ],
   "source": [
    "# Age Distribution\n",
    "import matplotlib.pyplot as plt\n",
    "\n",
    "# Age distribution\n",
    "plt.figure(figsize=(10, 6))\n",
    "plt.hist(customer_data['Age'], bins=20, color='skyblue', edgecolor='black')\n",
    "plt.title('Age Distribution of Customers')\n",
    "plt.xlabel('Age')\n",
    "plt.ylabel('Frequency')\n",
    "plt.grid(axis='y')\n",
    "plt.show()\n"
   ]
  },
  {
   "cell_type": "code",
   "execution_count": 10,
   "id": "60c4dc45-14f3-4a72-a0ab-1c9ad40c90d5",
   "metadata": {},
   "outputs": [
    {
     "name": "stdout",
     "output_type": "stream",
     "text": [
      "State Distribution:\n",
      "State\n",
      "California         715\n",
      "Ontario            644\n",
      "Texas              522\n",
      "New South Wales    430\n",
      "New York           423\n",
      "                  ... \n",
      "Dacorum              1\n",
      "Purbeck              1\n",
      "Crotone              1\n",
      "Viterbo              1\n",
      "New Brunswick        1\n",
      "Name: count, Length: 512, dtype: int64\n",
      "Country Distribution:\n",
      "Country\n",
      "United States     6828\n",
      "United Kingdom    1944\n",
      "Canada            1553\n",
      "Germany           1473\n",
      "Australia         1420\n",
      "Netherlands        733\n",
      "France             670\n",
      "Italy              645\n",
      "Name: count, dtype: int64\n"
     ]
    }
   ],
   "source": [
    "#  Location Distribution\n",
    "# State distribution\n",
    "state_distribution = customer_data['State'].value_counts()\n",
    "print(\"State Distribution:\")\n",
    "print(state_distribution)\n",
    "\n",
    "# Country distribution\n",
    "country_distribution = customer_data['Country'].value_counts()\n",
    "print(\"Country Distribution:\")\n",
    "print(country_distribution)\n"
   ]
  },
  {
   "cell_type": "code",
   "execution_count": 11,
   "id": "fcda7c08-10e3-4f74-a151-fb66dadb24e7",
   "metadata": {},
   "outputs": [
    {
     "name": "stdout",
     "output_type": "stream",
     "text": [
      "       Order Number  Line Item Order Date Delivery Date  CustomerKey  \\\n",
      "0            366000          1   1/1/2016           NaN       265598   \n",
      "1            366001          1   1/1/2016     1/13/2016      1269051   \n",
      "2            366001          2   1/1/2016     1/13/2016      1269051   \n",
      "3            366002          1   1/1/2016     1/12/2016       266019   \n",
      "4            366002          2   1/1/2016     1/12/2016       266019   \n",
      "...             ...        ...        ...           ...          ...   \n",
      "62879       2243030          1  2/20/2021           NaN      1216913   \n",
      "62880       2243031          1  2/20/2021     2/24/2021       511229   \n",
      "62881       2243032          1  2/20/2021     2/23/2021       331277   \n",
      "62882       2243032          2  2/20/2021     2/23/2021       331277   \n",
      "62883       2243032          3  2/20/2021     2/23/2021       331277   \n",
      "\n",
      "       StoreKey  ProductKey  Quantity Currency Code  Gender   Birthday  Age  \n",
      "0            10        1304         1           CAD    Male 1971-03-23   53  \n",
      "1             0        1048         2           USD    Male 1995-11-20   28  \n",
      "2             0        2007         1           USD    Male 1995-11-20   28  \n",
      "3             0        1106         7           CAD  Female 1962-08-24   62  \n",
      "4             0         373         1           CAD  Female 1962-08-24   62  \n",
      "...         ...         ...       ...           ...     ...        ...  ...  \n",
      "62879        43         632         3           USD    Male 1939-04-16   85  \n",
      "62880         0          98         4           EUR  Female 1940-03-10   84  \n",
      "62881         0        1613         2           CAD    Male 1993-05-25   31  \n",
      "62882         0        1717         2           CAD    Male 1993-05-25   31  \n",
      "62883         0         464         7           CAD    Male 1993-05-25   31  \n",
      "\n",
      "[62884 rows x 12 columns]\n"
     ]
    }
   ],
   "source": [
    "# Merge sales data with customer data to create merged_df\n",
    "merged_df = sales_df.merge(customer_data[['CustomerKey', 'Gender', 'Birthday', 'Age']], on='CustomerKey', how='left')\n",
    "print(merged_df)"
   ]
  },
  {
   "cell_type": "code",
   "execution_count": 12,
   "id": "5e327926-d2c0-4746-af04-c71365c8b957",
   "metadata": {},
   "outputs": [],
   "source": [
    "# Convert 'Order Date' to datetime\n",
    "merged_df['Order Date'] = pd.to_datetime(merged_df['Order Date'])\n",
    "\n",
    "# Calculate Total Sales and Number of Orders per Customer\n",
    "purchase_summary = merged_df.groupby('CustomerKey').agg(\n",
    "    Total_Sales=('Quantity', 'sum'),\n",
    "    Number_of_Orders=('Order Number', 'nunique')\n",
    ").reset_index()\n"
   ]
  },
  {
   "cell_type": "code",
   "execution_count": 13,
   "id": "01b7f039-d894-407f-bd85-b2edc7c8b11d",
   "metadata": {},
   "outputs": [
    {
     "name": "stdout",
     "output_type": "stream",
     "text": [
      "   CustomerKey  Total_Sales  Number_of_Orders  Average_Order_Value  \\\n",
      "0          301            2                 1                  2.0   \n",
      "1          325           27                 3                  9.0   \n",
      "2          554           14                 2                  7.0   \n",
      "3         1042            6                 1                  6.0   \n",
      "4         1314           13                 1                 13.0   \n",
      "\n",
      "  Customer_Segment  \n",
      "0        Low Value  \n",
      "1        Low Value  \n",
      "2        Low Value  \n",
      "3        Low Value  \n",
      "4     Medium Value  \n"
     ]
    }
   ],
   "source": [
    "# Calculate Average Order Value (AOV)\n",
    "purchase_summary['Average_Order_Value'] = purchase_summary['Total_Sales'] / purchase_summary['Number_of_Orders']\n",
    "\n",
    "# Define segments based on Average Order Value\n",
    "def segment_customers(row):\n",
    "    if row['Average_Order_Value'] < 10:\n",
    "        return 'Low Value'\n",
    "    elif row['Average_Order_Value'] < 20:\n",
    "        return 'Medium Value'\n",
    "    else:\n",
    "        return 'High Value'\n",
    "\n",
    "# Apply the segmentation function\n",
    "purchase_summary['Customer_Segment'] = purchase_summary.apply(segment_customers, axis=1)\n",
    "\n",
    "# Display the segmented customer summary\n",
    "print(purchase_summary[['CustomerKey', 'Total_Sales', 'Number_of_Orders', 'Average_Order_Value', 'Customer_Segment']].head())"
   ]
  },
  {
   "cell_type": "code",
   "execution_count": 14,
   "id": "9038c88e-9cd6-4106-82c4-d5f4894137b3",
   "metadata": {},
   "outputs": [
    {
     "data": {
      "image/png": "[encoded data removed]",
      "text/plain": [
       "<Figure size 800x500 with 1 Axes>"
      ]
     },
     "metadata": {},
     "output_type": "display_data"
    }
   ],
   "source": [
    "# Bar plot for customer segments\n",
    "plt.figure(figsize=(8, 5))\n",
    "segment_counts = purchase_summary['Customer_Segment'].value_counts()\n",
    "sns.barplot(x=segment_counts.index, y=segment_counts.values, palette='viridis', hue=None)\n",
    "plt.title('Customer Segmentation by Average Order Value')\n",
    "plt.xlabel('Customer Segment')\n",
    "plt.ylabel('Number of Customers')\n",
    "plt.xticks(rotation=45)\n",
    "plt.show()\n"
   ]
  },
  {
   "cell_type": "code",
   "execution_count": 15,
   "id": "e721ad97-1b84-4734-9dbe-9f93a2d6f5bd",
   "metadata": {},
   "outputs": [
    {
     "name": "stdout",
     "output_type": "stream",
     "text": [
      "  Customer_Segment        Age\n",
      "0       High Value  54.037770\n",
      "1        Low Value  55.448799\n",
      "2     Medium Value  55.354052\n"
     ]
    }
   ],
   "source": [
    "# Merge Age information back into purchase_summary\n",
    "purchase_summary = purchase_summary.merge(merged_df[['CustomerKey', 'Age']], on='CustomerKey', how='left')\n",
    "\n",
    "# Calculate average age by customer segment\n",
    "average_age_by_segment = purchase_summary.groupby('Customer_Segment')['Age'].mean().reset_index()\n",
    "\n",
    "# Display average age by segment\n",
    "print(average_age_by_segment)\n",
    "#Completed Customer Analysis"
   ]
  },
  {
   "cell_type": "code",
   "execution_count": 16,
   "id": "b79ba4e8-ab64-493d-a868-35470fac8454",
   "metadata": {},
   "outputs": [],
   "source": [
    "# Define the file path\n",
    "output_path = r\"D:\\PROJECTS\\EDA\\Cleanned Data\\customer_analysis.csv\"\n",
    "\n",
    "# Save the purchase_summary DataFrame to an Excel file\n",
    "purchase_summary.to_csv(output_path, index=False)\n"
   ]
  },
  {
   "cell_type": "code",
   "execution_count": 18,
   "id": "6ce9f612-6032-4e65-86fd-018ba8877a54",
   "metadata": {},
   "outputs": [
    {
     "name": "stdout",
     "output_type": "stream",
     "text": [
      "Requirement already satisfied: pandas in c:\\users\\sachin\\appdata\\local\\programs\\python\\python312\\lib\\site-packages (2.2.2)\n",
      "Requirement already satisfied: sqlalchemy in c:\\users\\sachin\\appdata\\local\\programs\\python\\python312\\lib\\site-packages (2.0.35)\n",
      "Requirement already satisfied: pymysql in c:\\users\\sachin\\appdata\\local\\programs\\python\\python312\\lib\\site-packages (1.1.1)\n",
      "Requirement already satisfied: numpy>=1.26.0 in c:\\users\\sachin\\appdata\\local\\programs\\python\\python312\\lib\\site-packages (from pandas) (2.1.0)\n",
      "Requirement already satisfied: python-dateutil>=2.8.2 in c:\\users\\sachin\\appdata\\local\\programs\\python\\python312\\lib\\site-packages (from pandas) (2.9.0.post0)\n",
      "Requirement already satisfied: pytz>=2020.1 in c:\\users\\sachin\\appdata\\local\\programs\\python\\python312\\lib\\site-packages (from pandas) (2024.1)\n",
      "Requirement already satisfied: tzdata>=2022.7 in c:\\users\\sachin\\appdata\\local\\programs\\python\\python312\\lib\\site-packages (from pandas) (2024.1)\n",
      "Requirement already satisfied: typing-extensions>=4.6.0 in c:\\users\\sachin\\appdata\\local\\programs\\python\\python312\\lib\\site-packages (from sqlalchemy) (4.12.2)\n",
      "Requirement already satisfied: greenlet!=0.4.17 in c:\\users\\sachin\\appdata\\local\\programs\\python\\python312\\lib\\site-packages (from sqlalchemy) (3.1.1)\n",
      "Requirement already satisfied: six>=1.5 in c:\\users\\sachin\\appdata\\local\\programs\\python\\python312\\lib\\site-packages (from python-dateutil>=2.8.2->pandas) (1.16.0)\n",
      "Note: you may need to restart the kernel to use updated packages.\n"
     ]
    }
   ],
   "source": [
    "pip install pandas sqlalchemy pymysql\n"
   ]
  },
  {
   "cell_type": "code",
   "execution_count": 20,
   "id": "3db746eb-4173-4964-b444-4be404e438e1",
   "metadata": {},
   "outputs": [
    {
     "name": "stdout",
     "output_type": "stream",
     "text": [
      "Data successfully stored in the MySQL database.\n"
     ]
    }
   ],
   "source": [
    "from sqlalchemy import create_engine\n",
    "\n",
    "# Database connection details\n",
    "user = 'root'\n",
    "password = 'Krishna3_6_9'\n",
    "host = '127.0.0.1'\n",
    "database = 'Datas'\n",
    "\n",
    "# Create a database connection\n",
    "connection_string = f'mysql+pymysql://{user}:{password}@{host}/{database}'\n",
    "engine = create_engine(connection_string)\n",
    "\n",
    "# Store the purchase_summary DataFrame to the database\n",
    "purchase_summary.to_sql('Customer_analysis', con=engine, index=False, if_exists='replace')\n",
    "\n",
    "print(\"Data successfully stored in the MySQL database.\")\n"
   ]
  },
  {
   "cell_type": "code",
   "execution_count": 21,
   "id": "442e5ac1-22af-49cb-b373-b8d09021a3a1",
   "metadata": {},
   "outputs": [
    {
     "data": {
      "text/plain": [
       "CustomerKey              int64\n",
       "Total_Sales              int64\n",
       "Number_of_Orders         int64\n",
       "Average_Order_Value    float64\n",
       "Customer_Segment        object\n",
       "Age                      int64\n",
       "dtype: object"
      ]
     },
     "execution_count": 21,
     "metadata": {},
     "output_type": "execute_result"
    }
   ],
   "source": [
    "purchase_summary.dtypes"
   ]
  },
  {
   "cell_type": "code",
   "execution_count": null,
   "id": "a0cc31e4-4a74-4bc5-b730-62f743dee00d",
   "metadata": {},
   "outputs": [],
   "source": []
  }
 ],
 "metadata": {
  "kernelspec": {
   "display_name": "Python 3 (ipykernel)",
   "language": "python",
   "name": "python3"
  },
  "language_info": {
   "codemirror_mode": {
    "name": "ipython",
    "version": 3
   },
   "file_extension": ".py",
   "mimetype": "text/x-python",
   "name": "python",
   "nbconvert_exporter": "python",
   "pygments_lexer": "ipython3",
   "version": "3.12.6"
  }
 },
 "nbformat": 4,
 "nbformat_minor": 5
}
